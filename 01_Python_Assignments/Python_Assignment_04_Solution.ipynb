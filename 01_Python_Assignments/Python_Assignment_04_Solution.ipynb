{
 "cells": [
  {
   "cell_type": "markdown",
   "metadata": {},
   "source": [
    "<b>Python Assignment 04<br>\n",
    "Submitted by : Arvind Chauhan"
   ]
  },
  {
   "cell_type": "markdown",
   "metadata": {},
   "source": [
    "<b>1.1 Write a Python Program(with class concepts) to find the area of the triangle using the below\n",
    "formula.<br>\n",
    "area = (s*(s-a)*(s-b)*(s-c)) ** 0.5<br>\n",
    "Function to take the length of the sides of triangle from user should be defined in the parent\n",
    "class and function to calculate the area should be defined in subclass."
   ]
  },
  {
   "cell_type": "code",
   "execution_count": 63,
   "metadata": {},
   "outputs": [],
   "source": [
    "class Area:\n",
    "    def __init__(self, side_a, side_b, side_c):\n",
    "        self.a = side_a\n",
    "        self.b = side_b\n",
    "        self.c = side_c\n",
    "    \n",
    "    def calculate_area(self):\n",
    "        s = (self.a + self.b + self.c)/2\n",
    "        area = (s*(s-self.a)*(s-self.b)*(s-self.c)*0.5)\n",
    "        print(\"The Area of Triangle is:\", area)"
   ]
  },
  {
   "cell_type": "code",
   "execution_count": 64,
   "metadata": {},
   "outputs": [
    {
     "name": "stdout",
     "output_type": "stream",
     "text": [
      "The Area of Triangle is: 108.0\n"
     ]
    }
   ],
   "source": [
    "#Create object of Area class and pass the edges of the triangle\n",
    "triangle_area = Area(5, 6, 7)\n",
    "triangle_area.calculate_area()"
   ]
  },
  {
   "cell_type": "markdown",
   "metadata": {},
   "source": [
    "<b>1.2 Write a function filter_long_words() that takes a list of words and an integer n and returns\n",
    "the list of words that are longer than n."
   ]
  },
  {
   "cell_type": "code",
   "execution_count": 69,
   "metadata": {},
   "outputs": [],
   "source": [
    "def filter_long_words(words_list, n):\n",
    "    final_list = []\n",
    "    for item in words_list:\n",
    "        if len(item) > n:\n",
    "            final_list.append(item)\n",
    "    return final_list"
   ]
  },
  {
   "cell_type": "code",
   "execution_count": 70,
   "metadata": {},
   "outputs": [
    {
     "name": "stdout",
     "output_type": "stream",
     "text": [
      "['Mumbai', 'Nagpur']\n"
     ]
    }
   ],
   "source": [
    "word_list = [\"Mumbai\", \"Pune\", \"Nagpur\", \"Delhi\"]\n",
    "list1 = filter_long_words(word_list, 5)\n",
    "\n",
    "print(list1)"
   ]
  },
  {
   "cell_type": "markdown",
   "metadata": {},
   "source": [
    "<b>2.1 Write a Python program using function concept that maps list of words into a list of integers\n",
    "representing the lengths of the corresponding words.<br>\n",
    "Hint: If a list [ ab,cde,erty] is passed on to the python function output should come as [2,3,4]\n",
    "Here 2,3 and 4 are the lengths of the words in the list."
   ]
  },
  {
   "cell_type": "code",
   "execution_count": 74,
   "metadata": {},
   "outputs": [],
   "source": [
    "def list_word_count(word_list):\n",
    "    count_list = []\n",
    "    for item in word_list:\n",
    "        count_list.append(len(item))\n",
    "        \n",
    "    return count_list"
   ]
  },
  {
   "cell_type": "code",
   "execution_count": 75,
   "metadata": {},
   "outputs": [
    {
     "name": "stdout",
     "output_type": "stream",
     "text": [
      "[6, 4, 6, 5]\n"
     ]
    }
   ],
   "source": [
    "word_list = [\"Mumbai\", \"Pune\", \"Nagpur\", \"Delhi\"]\n",
    "list1 = list_word_count(word_list)\n",
    "\n",
    "print(list1)"
   ]
  },
  {
   "cell_type": "markdown",
   "metadata": {},
   "source": [
    "<b>2.2 Write a Python function which takes a character (i.e. a string of length 1) and returns True if\n",
    "it is a vowel, False otherwise."
   ]
  },
  {
   "cell_type": "code",
   "execution_count": 90,
   "metadata": {},
   "outputs": [],
   "source": [
    "def find_vowel(character):\n",
    "    if len(character) == 1:\n",
    "        if character in ['a', 'e', 'i', 'o', 'u']:\n",
    "            print(\"Given character '{}' is a Vowel\".format(character))\n",
    "        else:\n",
    "            print(\"Given character '{}' is not a Vowel\".format(character))\n",
    "    else:\n",
    "        print(\"Given character has not lenght 1\")"
   ]
  },
  {
   "cell_type": "code",
   "execution_count": 91,
   "metadata": {},
   "outputs": [
    {
     "name": "stdout",
     "output_type": "stream",
     "text": [
      "Given character 'a' is a Vowel\n",
      "Given character 'm' is not a Vowel\n"
     ]
    }
   ],
   "source": [
    "find_vowel('a')\n",
    "find_vowel('m')"
   ]
  }
 ],
 "metadata": {
  "kernelspec": {
   "display_name": "Python 3",
   "language": "python",
   "name": "python3"
  },
  "language_info": {
   "codemirror_mode": {
    "name": "ipython",
    "version": 3
   },
   "file_extension": ".py",
   "mimetype": "text/x-python",
   "name": "python",
   "nbconvert_exporter": "python",
   "pygments_lexer": "ipython3",
   "version": "3.8.3"
  }
 },
 "nbformat": 4,
 "nbformat_minor": 4
}
