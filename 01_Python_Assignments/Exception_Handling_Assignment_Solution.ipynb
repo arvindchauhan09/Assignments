{
 "cells": [
  {
   "cell_type": "markdown",
   "metadata": {},
   "source": [
    "<b>Exception Handling Assignment<br>\n",
    "Submitted by : Arvind Chauhan"
   ]
  },
  {
   "cell_type": "markdown",
   "metadata": {},
   "source": [
    "<b>1. Write a function to compute 5/0 and use try/except to catch the exceptions."
   ]
  },
  {
   "cell_type": "code",
   "execution_count": 3,
   "metadata": {},
   "outputs": [],
   "source": [
    "def division(a, b):\n",
    "    try:\n",
    "        c = a/b\n",
    "        print(\"Divion is\", c)\n",
    "    except ZeroDivisionError:\n",
    "        print(\"Denominator is zero!!\")\n",
    "    except:\n",
    "        print(\"Exception\")"
   ]
  },
  {
   "cell_type": "code",
   "execution_count": 6,
   "metadata": {},
   "outputs": [
    {
     "name": "stdout",
     "output_type": "stream",
     "text": [
      "Denominator is zero!!\n"
     ]
    }
   ],
   "source": [
    "division(5, 0)"
   ]
  },
  {
   "cell_type": "markdown",
   "metadata": {},
   "source": [
    "<b>2. Implement a Python program to generate all sentences where subject is in\n",
    "[\"Americans\", \"Indians\"] and verb is in [\"Play\", \"watch\"] and the object is in\n",
    "[\"Baseball\",\"cricket\"]."
   ]
  },
  {
   "cell_type": "code",
   "execution_count": 14,
   "metadata": {},
   "outputs": [],
   "source": [
    "def sentence_generator(subject_list, verb_list, object_list):\n",
    "    sentence_list = []\n",
    "    for subject_list_item in subject_list:\n",
    "        for verb_list_item in verb_list:\n",
    "            for object_list_item in object_list:\n",
    "                sentence_list.append(subject_list_item + \" \" + verb_list_item + \" \" + object_list_item)\n",
    "                \n",
    "    return sentence_list"
   ]
  },
  {
   "cell_type": "code",
   "execution_count": 15,
   "metadata": {},
   "outputs": [],
   "source": [
    "subject_list = [\"Americans\", \"Indians\"]\n",
    "verb_list = [\"Play\", \"watch\"]\n",
    "object_list = [\"Baseball\",\"cricket\"]\n",
    "sent_list = sentence_generator(subject_list, verb_list, object_list)"
   ]
  },
  {
   "cell_type": "code",
   "execution_count": 17,
   "metadata": {},
   "outputs": [
    {
     "name": "stdout",
     "output_type": "stream",
     "text": [
      "Americans Play Baseball\n",
      "Americans Play cricket\n",
      "Americans watch Baseball\n",
      "Americans watch cricket\n",
      "Indians Play Baseball\n",
      "Indians Play cricket\n",
      "Indians watch Baseball\n",
      "Indians watch cricket\n"
     ]
    }
   ],
   "source": [
    "for idx in range(len(sent_list)):\n",
    "    print(sent_list[idx])"
   ]
  }
 ],
 "metadata": {
  "kernelspec": {
   "display_name": "Python 3",
   "language": "python",
   "name": "python3"
  },
  "language_info": {
   "codemirror_mode": {
    "name": "ipython",
    "version": 3
   },
   "file_extension": ".py",
   "mimetype": "text/x-python",
   "name": "python",
   "nbconvert_exporter": "python",
   "pygments_lexer": "ipython3",
   "version": "3.8.3"
  }
 },
 "nbformat": 4,
 "nbformat_minor": 4
}
